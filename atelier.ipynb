{
 "cells": [
  {
   "cell_type": "markdown",
   "metadata": {},
   "source": [
    "![alt text](um6p.png)"
   ]
  },
  {
   "cell_type": "markdown",
   "metadata": {},
   "source": [
    "\\begin{center}\n",
    "***Abderahmane HAMDOUCHI***\n",
    "\n"
   ]
  },
  {
   "cell_type": "markdown",
   "metadata": {},
   "source": [
    "**Master SDAD**"
   ]
  },
  {
   "cell_type": "markdown",
   "metadata": {},
   "source": [
    "**UM6P**  \\end{center}"
   ]
  },
  {
   "cell_type": "markdown",
   "metadata": {},
   "source": [
    "\\newpage"
   ]
  },
  {
   "cell_type": "markdown",
   "metadata": {},
   "source": [
    "\n",
    "\\vspace*{\\stretch{1}}\n",
    "**Description de tout le TP**"
   ]
  },
  {
   "cell_type": "markdown",
   "metadata": {},
   "source": [
    "\\newpage"
   ]
  },
  {
   "cell_type": "markdown",
   "metadata": {},
   "source": [
    "## Chargement des libraries"
   ]
  },
  {
   "cell_type": "code",
   "execution_count": null,
   "metadata": {},
   "outputs": [],
   "source": [
    "# run this cell to import nltk\n",
    "import nltk\n",
    "from os import getcwd\n",
    "import csv\n",
    "import re\n",
    "import warnings\n",
    "warnings.filterwarnings('ignore')"
   ]
  },
  {
   "cell_type": "code",
   "execution_count": 130,
   "metadata": {},
   "outputs": [],
   "source": [
    "filePath = f\"{getcwd()}/../tmp2/\"\n",
    "nltk.data.path.append(filePath)"
   ]
  },
  {
   "cell_type": "code",
   "execution_count": 131,
   "metadata": {},
   "outputs": [],
   "source": [
    "import numpy as np\n",
    "import pandas as pd\n",
    "from nltk.corpus import twitter_samples \n",
    "\n",
    "from utils import process_tweet, build_freqs"
   ]
  },
  {
   "cell_type": "code",
   "execution_count": null,
   "metadata": {},
   "outputs": [],
   "source": []
  },
  {
   "cell_type": "code",
   "execution_count": 132,
   "metadata": {},
   "outputs": [
    {
     "name": "stderr",
     "output_type": "stream",
     "text": [
      "[nltk_data] Downloading package twitter_samples to\n",
      "[nltk_data]     C:\\Users\\HP\\AppData\\Roaming\\nltk_data...\n",
      "[nltk_data]   Package twitter_samples is already up-to-date!\n",
      "[nltk_data] Downloading package stopwords to\n",
      "[nltk_data]     C:\\Users\\HP\\AppData\\Roaming\\nltk_data...\n",
      "[nltk_data]   Package stopwords is already up-to-date!\n"
     ]
    },
    {
     "data": {
      "text/plain": [
       "True"
      ]
     },
     "execution_count": 132,
     "metadata": {},
     "output_type": "execute_result"
    }
   ],
   "source": [
    "nltk.download('twitter_samples')\n",
    "\n",
    "nltk.download('stopwords')"
   ]
  },
  {
   "cell_type": "markdown",
   "metadata": {},
   "source": [
    "## Chargement de positives et négatives tweets"
   ]
  },
  {
   "cell_type": "code",
   "execution_count": 179,
   "metadata": {},
   "outputs": [],
   "source": [
    "# positifs et negatifs tweets\n",
    "all_positive_tweets = twitter_samples.strings('positive_tweets.json')\n",
    "all_negative_tweets = twitter_samples.strings('negative_tweets.json')\n"
   ]
  },
  {
   "cell_type": "markdown",
   "metadata": {},
   "source": [
    "## Définir ma fonction personnalisée de prétraitement"
   ]
  },
  {
   "cell_type": "code",
   "execution_count": 134,
   "metadata": {},
   "outputs": [],
   "source": [
    "def my_process(all_tweets):\n",
    "    if(type(all_tweets) is str):\n",
    "        all_tweets=[all_tweets]\n",
    "    processed_tweet = [tweet.lower() for tweet in all_tweets] \n",
    "    #processed_positive = [re.sub('[^a-zA-Z,.]', ' ', positive) for positive in processed_positive] \n",
    "    processed_tweet =[ re.sub(r'\\s+', ' ', tweet) for tweet in processed_tweet] \n",
    "\n",
    "    processed_tweet= [process_tweet(tweet) for tweet in processed_tweet]\n",
    "    return processed_tweet"
   ]
  },
  {
   "cell_type": "markdown",
   "metadata": {},
   "source": [
    "## Appliquer la fonction my_process sur les tweets négatives"
   ]
  },
  {
   "cell_type": "code",
   "execution_count": 183,
   "metadata": {},
   "outputs": [
    {
     "data": {
      "text/plain": [
       "['hopeless', 'tmr', ':(']"
      ]
     },
     "execution_count": 183,
     "metadata": {},
     "output_type": "execute_result"
    }
   ],
   "source": [
    "processed_negative = my_process(all_negative_tweets)\n",
    "processed_negative[0]"
   ]
  },
  {
   "cell_type": "markdown",
   "metadata": {},
   "source": [
    "## Appliquer la fonction my_process sur les tweets négatives"
   ]
  },
  {
   "cell_type": "code",
   "execution_count": 182,
   "metadata": {},
   "outputs": [
    {
     "data": {
      "text/plain": [
       "['followfriday', 'top', 'engag', 'member', 'commun', 'week', ':)']"
      ]
     },
     "execution_count": 182,
     "metadata": {},
     "output_type": "execute_result"
    }
   ],
   "source": [
    "processed_positive = my_process(all_positive_tweets)\n",
    "processed_positive[0]"
   ]
  },
  {
   "cell_type": "markdown",
   "metadata": {},
   "source": [
    "## Déifinir le modèle en affichant quelques attributs à savoir le modèle et le vecteur du word follow"
   ]
  },
  {
   "cell_type": "code",
   "execution_count": 185,
   "metadata": {},
   "outputs": [
    {
     "name": "stdout",
     "output_type": "stream",
     "text": [
      "Word2Vec(vocab=1690, size=100, alpha=0.025)\n",
      "[ 5.01531959e-01  3.67040217e-01  2.38937631e-01  1.08702935e-01\n",
      "  1.54985534e-02  2.39450812e-01  2.87945122e-01 -5.35700321e-01\n",
      "  1.32256284e-01 -2.76650935e-01  1.03770785e-01  7.62577713e-01\n",
      " -1.80443093e-01  1.88712910e-01 -2.41729051e-01 -2.41091743e-01\n",
      "  1.88823581e-01  7.52024800e-02  3.82672460e-03  3.50546390e-01\n",
      " -3.12930346e-01  1.24411076e-01  2.69297570e-01  3.22779678e-02\n",
      " -4.44279253e-01  3.37712228e-01  2.53204286e-01 -1.52209848e-01\n",
      " -3.42231281e-02  5.60826398e-02  5.52766681e-01  4.46395665e-01\n",
      "  1.45001352e-01  8.30091015e-02  2.11668447e-01  2.53361970e-01\n",
      "  8.50841403e-02  4.35931623e-01  3.59702766e-01  7.40043700e-01\n",
      " -3.51718396e-01  2.93964058e-01 -3.22997719e-02  2.67951608e-01\n",
      " -5.29950559e-01  2.25865543e-01 -2.48828590e-01 -2.11978897e-01\n",
      " -7.13110641e-02  5.82131520e-02  9.37286913e-02 -2.62803406e-01\n",
      " -3.27936292e-01 -2.13638589e-01  2.87564129e-01 -2.43420616e-01\n",
      " -1.75331041e-01  7.28091970e-02  2.84386337e-01 -5.47076344e-01\n",
      " -3.33004177e-01  3.48764926e-01 -6.35541439e-01 -7.64724314e-02\n",
      "  3.35362256e-02  1.89775690e-01 -2.87401825e-01 -4.07457277e-02\n",
      "  2.33239621e-01 -4.61994350e-01  9.18216035e-02  5.67106307e-01\n",
      "  6.54510140e-01  1.63454056e-01 -2.83875406e-01  1.99786931e-01\n",
      "  3.23326439e-01 -4.69862521e-01  8.52480084e-02  1.92460150e-01\n",
      " -4.58059520e-01  3.50144297e-01 -3.75221014e-01 -2.29093283e-01\n",
      "  1.90527424e-01  4.42057550e-01 -1.35416582e-01  6.38638958e-02\n",
      "  2.02539980e-01 -2.73721665e-01 -7.09873202e-05  4.26143318e-01\n",
      " -2.98021883e-01 -7.17002675e-02 -1.54093085e-02  8.50349590e-02\n",
      " -1.11850567e-01 -1.83632165e-01 -2.59578496e-01  4.08376992e-01]\n",
      "Word2Vec(vocab=1690, size=100, alpha=0.025)\n"
     ]
    }
   ],
   "source": [
    "from gensim.models import Word2Vec\n",
    "# define training data\n",
    "sentences = processed_positive+processed_negative\n",
    "# train model\n",
    "model = Word2Vec(sentences, min_count=5, workers=8)\n",
    "# summarize the loaded model\n",
    "print(model)\n",
    "\n",
    "# access vector for one word\n",
    "print(model['follow'])\n",
    "# save model\n",
    "model.save('model.bin')\n",
    "# load model\n",
    "new_model = Word2Vec.load('model.bin')\n",
    "print(new_model)\n",
    "\n",
    "    "
   ]
  },
  {
   "cell_type": "markdown",
   "metadata": {},
   "source": [
    "## Ploter les différents mots meme si ils sont nombreux, alors qu'on peut les visualiser"
   ]
  },
  {
   "cell_type": "code",
   "execution_count": 145,
   "metadata": {},
   "outputs": [
    {
     "data": {
      "image/png": "[encoded data removed]",
      "text/plain": [
       "<Figure size 432x288 with 1 Axes>"
      ]
     },
     "metadata": {
      "needs_background": "light"
     },
     "output_type": "display_data"
    }
   ],
   "source": [
    "from sklearn.decomposition import PCA\n",
    "from matplotlib import pyplot\n",
    "\n",
    "# fit a 2d PCA model to the vectors\n",
    "X = model[model.wv.vocab]\n",
    "pca = PCA(n_components=2)\n",
    "result = pca.fit_transform(X)\n",
    "# create a scatter plot of the projection\n",
    "pyplot.scatter(result[:, 0], result[:, 1])\n",
    "words = list(model.wv.vocab)\n",
    "for i, word in enumerate(words):\n",
    "    pyplot.annotate(word, xy=(result[i, 0], result[i, 1]))\n",
    "pyplot.show()"
   ]
  },
  {
   "cell_type": "markdown",
   "metadata": {},
   "source": [
    "## Définir la méthode de prédiction personnelle qui se base sur la visualisation "
   ]
  },
  {
   "cell_type": "code",
   "execution_count": 164,
   "metadata": {},
   "outputs": [],
   "source": [
    "\n",
    "def my_predict(my_model,my_tweet):\n",
    "    sentence_processed=my_process(my_tweet)\n",
    "    print(sentence_processed)\n",
    "    X = my_model[sentence_processed[0]]\n",
    "    pca = PCA(n_components=2)\n",
    "    result = pca.fit_transform(X)\n",
    "    # create a scatter plot of the projection\n",
    "    pyplot.scatter(result[:, 0], result[:, 1])\n",
    "    words = list(sentence_processed[0])\n",
    "    for i, word in enumerate(words):\n",
    "        pyplot.annotate(word, xy=(result[i, 0], result[i, 1]))\n",
    "    pyplot.show()"
   ]
  },
  {
   "cell_type": "markdown",
   "metadata": {},
   "source": [
    "## On applique la méthode sur 2 tweets au choix "
   ]
  },
  {
   "cell_type": "markdown",
   "metadata": {},
   "source": [
    "### premier tweet"
   ]
  },
  {
   "cell_type": "code",
   "execution_count": 165,
   "metadata": {},
   "outputs": [
    {
     "name": "stdout",
     "output_type": "stream",
     "text": [
      "[['bad', 'movi', 'movi', 'terribl', 'sad', 'end']]\n"
     ]
    },
    {
     "data": {
      "image/png": "[encoded data removed]",
      "text/plain": [
       "<Figure size 432x288 with 1 Axes>"
      ]
     },
     "metadata": {
      "needs_background": "light"
     },
     "output_type": "display_data"
    }
   ],
   "source": [
    "my_tweet = 'This is a bad  movie. The movie was terrible and I was sad until the ending!'\n",
    "my_model = Word2Vec.load('model.bin')\n",
    "my_predict(my_model,my_tweet)"
   ]
  },
  {
   "cell_type": "markdown",
   "metadata": {},
   "source": [
    "### Deuxième tweet"
   ]
  },
  {
   "cell_type": "code",
   "execution_count": 175,
   "metadata": {},
   "outputs": [
    {
     "name": "stdout",
     "output_type": "stream",
     "text": [
      "[['cat', 'bad', 'friend', 'hous', 'car', 'turn', 'hous', 'open', 'door', 'made', 'pictur', 'sorri', 'danc']]\n"
     ]
    },
    {
     "data": {
      "image/png": "[encoded data removed]",
      "text/plain": [
       "<Figure size 432x288 with 1 Axes>"
      ]
     },
     "metadata": {
      "needs_background": "light"
     },
     "output_type": "display_data"
    }
   ],
   "source": [
    "my_tweet = 'The cat is bad. my friend is on his house.  The car turned the house. She opened the door. he made a picture. I m sorry.  I danced.'\n",
    "\n",
    "my_predict(my_model,my_tweet)"
   ]
  }
 ],
 "metadata": {
  "kernelspec": {
   "display_name": "Python 3",
   "language": "python",
   "name": "python3"
  },
  "language_info": {
   "codemirror_mode": {
    "name": "ipython",
    "version": 3
   },
   "file_extension": ".py",
   "mimetype": "text/x-python",
   "name": "python",
   "nbconvert_exporter": "python",
   "pygments_lexer": "ipython3",
   "version": "3.8.5"
  }
 },
 "nbformat": 4,
 "nbformat_minor": 4
}
