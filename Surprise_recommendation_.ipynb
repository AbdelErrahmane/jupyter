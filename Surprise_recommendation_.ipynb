{
 "cells": [
  {
   "cell_type": "markdown",
   "metadata": {
    "id": "tkxoGsqoXnNX"
   },
   "source": [
    "![alt text](um6p.png)"
   ]
  },
  {
   "cell_type": "markdown",
   "metadata": {},
   "source": [
    "***Abderahmane HAMDOUCHI***\n",
    "\n"
   ]
  },
  {
   "cell_type": "markdown",
   "metadata": {},
   "source": [
    "**Master SDAD**"
   ]
  },
  {
   "cell_type": "markdown",
   "metadata": {},
   "source": [
    "**UM6P**"
   ]
  },
  {
   "cell_type": "markdown",
   "metadata": {},
   "source": [
    "\\newpage"
   ]
  },
  {
   "cell_type": "markdown",
   "metadata": {},
   "source": [
    "\\tableofcontents "
   ]
  },
  {
   "cell_type": "markdown",
   "metadata": {},
   "source": [
    "\\newpage"
   ]
  },
  {
   "cell_type": "markdown",
   "metadata": {},
   "source": [
    "# Objectif du Tp"
   ]
  },
  {
   "cell_type": "markdown",
   "metadata": {},
   "source": [
    "Ce tp a pour objectif de se familiariser avec le framework surprise en implémentant les différentes algorithmes et de faire un rinking pour savoir le meilleur algorithme qui marche  bien avec notre DataSet.\n",
    "En outre d'appliquer GridSearch pour faire tourner les différentes  hyper paramètres sur KNNBasic avec avoir les paramètres avec le meilleur score. \n",
    "En fin ploter le différents algorithmes en fonction de RMSE et MAE, d'ou on a eu que SVDpp suivi par KNNBaseline"
   ]
  },
  {
   "cell_type": "markdown",
   "metadata": {},
   "source": [
    "\\newpage"
   ]
  },
  {
   "cell_type": "code",
   "execution_count": null,
   "metadata": {
    "id": "3VR1l8G-Xwyi"
   },
   "outputs": [],
   "source": [
    "import numpy"
   ]
  },
  {
   "cell_type": "markdown",
   "metadata": {
    "id": "GBxBPAiEZlDJ"
   },
   "source": []
  },
  {
   "cell_type": "markdown",
   "metadata": {
    "id": "vjYB5YaEXnNf"
   },
   "source": [
    "> site officiel: http://surpriselib.com/\n",
    "\n",
    "> installer surprise:\n",
    "\n",
    "conda install -c conda-forge scikit-surprise"
   ]
  },
  {
   "cell_type": "code",
   "execution_count": 34,
   "metadata": {
    "colab": {
     "base_uri": "https://localhost:8080/",
     "height": 352
    },
    "id": "W0zHuRMLXnNf",
    "outputId": "c3740239-e561-48d4-8ca4-09c5c5fb2b06"
   },
   "outputs": [],
   "source": [
    "from surprise import SVD, KNNBasic , KNNWithMeans , KNNWithZScore , NMF , SlopeOne ,CoClustering,KNNBaseline\n",
    "from surprise import Dataset\n",
    "from surprise.model_selection import cross_validate, GridSearchCV"
   ]
  },
  {
   "cell_type": "code",
   "execution_count": 6,
   "metadata": {
    "id": "ViIrXtLQXnNh"
   },
   "outputs": [],
   "source": [
    "data = Dataset.load_builtin('ml-100k', prompt = False)"
   ]
  },
  {
   "cell_type": "code",
   "execution_count": 45,
   "metadata": {
    "colab": {
     "base_uri": "https://localhost:8080/"
    },
    "id": "DKHLIHi1XnNh",
    "outputId": "13f87117-8a69-44fd-8fe7-d7e62d915788",
    "scrolled": true
   },
   "outputs": [
    {
     "name": "stdout",
     "output_type": "stream",
     "text": [
      "Evaluating RMSE, MAE of algorithm SVD on 5 split(s).\n",
      "\n",
      "                  Fold 1  Fold 2  Fold 3  Fold 4  Fold 5  Mean    Std     \n",
      "RMSE (testset)    0.9341  0.9380  0.9288  0.9410  0.9373  0.9358  0.0042  \n",
      "MAE (testset)     0.7384  0.7414  0.7309  0.7424  0.7375  0.7381  0.0040  \n",
      "Fit time          5.07    4.84    5.22    5.02    5.00    5.03    0.12    \n",
      "Test time         0.24    0.15    0.19    0.13    0.19    0.18    0.04    \n"
     ]
    }
   ],
   "source": [
    "\n",
    "# Utilisons SVD vu dans le cours.\n",
    "algo = SVD()\n",
    "#  5-fold cross-validation en affichant les résultats  \n",
    "SVD_cv=cross_validate(algo, data, measures=['RMSE', 'MAE'], cv=5, verbose=True)\n"
   ]
  },
  {
   "cell_type": "code",
   "execution_count": 8,
   "metadata": {
    "id": "om3XIhP6XnNj"
   },
   "outputs": [],
   "source": [
    "#Changer le code pour prendre en considération l'items "
   ]
  },
  {
   "cell_type": "code",
   "execution_count": 9,
   "metadata": {
    "colab": {
     "base_uri": "https://localhost:8080/"
    },
    "id": "viHyhUQmXnNk",
    "outputId": "86264a85-8c08-4365-d91e-7eb48e10a180"
   },
   "outputs": [
    {
     "name": "stdout",
     "output_type": "stream",
     "text": [
      "Computing the msd similarity matrix...\n",
      "Done computing similarity matrix.\n",
      "Computing the msd similarity matrix...\n",
      "Done computing similarity matrix.\n",
      "Computing the msd similarity matrix...\n",
      "Done computing similarity matrix.\n",
      "Computing the msd similarity matrix...\n",
      "Done computing similarity matrix.\n",
      "Computing the msd similarity matrix...\n",
      "Done computing similarity matrix.\n",
      "Evaluating RMSE, MAE of algorithm KNNBasic on 5 split(s).\n",
      "\n",
      "                  Fold 1  Fold 2  Fold 3  Fold 4  Fold 5  Mean    Std     \n",
      "RMSE (testset)    0.9781  0.9828  0.9831  0.9723  0.9790  0.9791  0.0039  \n",
      "MAE (testset)     0.7732  0.7763  0.7784  0.7676  0.7708  0.7733  0.0039  \n",
      "Fit time          0.50    0.53    0.51    0.54    0.52    0.52    0.01    \n",
      "Test time         3.51    3.43    3.28    3.44    3.58    3.45    0.10    \n"
     ]
    },
    {
     "data": {
      "text/plain": [
       "{'test_rmse': array([0.97811931, 0.98282118, 0.98313484, 0.97226562, 0.97898063]),\n",
       " 'test_mae': array([0.77321779, 0.77632643, 0.77844221, 0.76757816, 0.77081038]),\n",
       " 'fit_time': (0.5035266876220703,\n",
       "  0.5259912014007568,\n",
       "  0.5091354846954346,\n",
       "  0.5377652645111084,\n",
       "  0.5160431861877441),\n",
       " 'test_time': (3.5130574703216553,\n",
       "  3.4312591552734375,\n",
       "  3.2798454761505127,\n",
       "  3.444450616836548,\n",
       "  3.579254150390625)}"
      ]
     },
     "execution_count": 9,
     "metadata": {},
     "output_type": "execute_result"
    }
   ],
   "source": [
    "# Utilisons le KNN \n",
    "algo = KNNBasic()\n",
    "\n",
    "#  5-fold cross-validation en affichant les résultats \n",
    "cross_validate(algo, data, measures=['RMSE', 'MAE'], cv=5, verbose=True)"
   ]
  },
  {
   "cell_type": "code",
   "execution_count": 10,
   "metadata": {
    "id": "EU3mvhcEXnNk",
    "outputId": "a1701c62-bc54-4b2f-b0fc-dff5a84d06aa"
   },
   "outputs": [
    {
     "name": "stdout",
     "output_type": "stream",
     "text": [
      "<surprise.dataset.DatasetAutoFolds object at 0x0000017E68F33160>\n"
     ]
    }
   ],
   "source": [
    "print(data)"
   ]
  },
  {
   "cell_type": "markdown",
   "metadata": {
    "id": "YKKUb-nHXnNl"
   },
   "source": [
    "# Le meilleur algorithme avec les différents paramètres qu'on peut retenir "
   ]
  },
  {
   "cell_type": "markdown",
   "metadata": {
    "id": "gMAafb7lXnNo"
   },
   "source": [
    "## Définir le Modèle avec les hyperparamètre et les faire entrer dans la GridSearch"
   ]
  },
  {
   "cell_type": "markdown",
   "metadata": {
    "id": "NKqpEFmhXOYO"
   },
   "source": [
    "Dans cette partie on va  appliquer les hyper-parameters sur l'algorithme KNNBAsic afin de ressortir le meilleur algorithme avec les différentes paramètres possible afin de retenir le meilleur score avec les meilleur paramètre possible."
   ]
  },
  {
   "cell_type": "code",
   "execution_count": null,
   "metadata": {
    "colab": {
     "base_uri": "https://localhost:8080/"
    },
    "id": "t7RkcZlpXnNq",
    "outputId": "8482e2a6-9510-434a-e484-05854aa0ac7b"
   },
   "outputs": [
    {
     "name": "stdout",
     "output_type": "stream",
     "text": [
      "*********\n",
      "RMSE score 0.9790887683439733\n",
      "Best Parameters {'K': 38, 'name': 'cosine', 'user_based': False, 'shrinkage': 0}\n"
     ]
    }
   ],
   "source": [
    "import numpy as np\n",
    "from surprise.model_selection import GridSearchCV\n",
    "from surprise import KNNBasic\n",
    "K = np.arange(38,45)\n",
    "name= ['cosine','pearson_baseline','pearson']\n",
    "user_based= [False,True]\n",
    "shrinkage= [0,1,2,3,4]\n",
    "\n",
    "print(\"*********\")\n",
    "\n",
    "param_grid = {'K': K, 'name':name,'user_based':user_based,'shrinkage':shrinkage }\n",
    "svd = GridSearchCV(KNNBasic, param_grid, measures=['rmse', 'mae'], cv=5, n_jobs = -1)\n",
    "\n",
    "svd.fit(data)\n",
    "\n"
   ]
  },
  {
   "cell_type": "markdown",
   "metadata": {
    "id": "0eIfkIV5HTOQ"
   },
   "source": [
    "Alors le meilleur K est 38 avec une mesure de distance cosine et user_based : False shrinkage = 0"
   ]
  },
  {
   "cell_type": "code",
   "execution_count": 47,
   "metadata": {},
   "outputs": [
    {
     "name": "stdout",
     "output_type": "stream",
     "text": [
      "Computing the msd similarity matrix...\n",
      "Done computing similarity matrix.\n",
      "Computing the msd similarity matrix...\n",
      "Done computing similarity matrix.\n",
      "Computing the msd similarity matrix...\n",
      "Done computing similarity matrix.\n",
      "Computing the msd similarity matrix...\n",
      "Done computing similarity matrix.\n",
      "Computing the msd similarity matrix...\n",
      "Done computing similarity matrix.\n",
      "Evaluating RMSE, MAE of algorithm KNNBasic on 5 split(s).\n",
      "\n",
      "                  Fold 1  Fold 2  Fold 3  Fold 4  Fold 5  Mean    Std     \n",
      "RMSE (testset)    0.9800  0.9797  0.9876  0.9778  0.9694  0.9789  0.0058  \n",
      "MAE (testset)     0.7750  0.7755  0.7791  0.7733  0.7652  0.7736  0.0046  \n",
      "Fit time          0.51    0.54    0.54    0.55    0.53    0.53    0.01    \n",
      "Test time         3.49    3.82    3.56    3.61    3.58    3.61    0.11    \n"
     ]
    }
   ],
   "source": [
    "# Utilisons KNNBasic.\n",
    "algo = KNNBasic(K= 38, name= 'cosine', user_based= False, shrinkage= 0)\n",
    "\n",
    "#  5-fold cross-validation en affichant les résultats \n",
    "KNNBasic_with_best_cv=cross_validate(algo, data, measures=['RMSE', 'MAE'], cv=5, verbose=True)"
   ]
  },
  {
   "cell_type": "markdown",
   "metadata": {
    "id": "LYcvvoTUXnNr"
   },
   "source": [
    "### SVD semble être plus précis que KNNBasic, mais cela semble prendre plus de temps."
   ]
  },
  {
   "cell_type": "code",
   "execution_count": 26,
   "metadata": {
    "id": "wbbJP0DXXnNr",
    "outputId": "80ba6cad-704d-4ddc-bdcd-70b872fcb820"
   },
   "outputs": [
    {
     "name": "stdout",
     "output_type": "stream",
     "text": [
      "Evaluating RMSE, MAE of algorithm SVDpp on 5 split(s).\n",
      "\n",
      "                  Fold 1  Fold 2  Fold 3  Fold 4  Fold 5  Mean    Std     \n",
      "RMSE (testset)    0.9202  0.9165  0.9244  0.9144  0.9215  0.9194  0.0036  \n",
      "MAE (testset)     0.7200  0.7204  0.7217  0.7190  0.7235  0.7209  0.0015  \n",
      "Fit time          195.91  236.92  202.04  208.27  209.43  210.51  14.06   \n",
      "Test time         3.93    4.00    4.04    5.41    3.23    4.12    0.71    \n"
     ]
    }
   ],
   "source": [
    "from surprise import SVDpp\n",
    "from surprise import Dataset\n",
    "from surprise.model_selection import cross_validate\n",
    "\n",
    "\n",
    "\n",
    "# Utilisons SVD++.\n",
    "algo = SVDpp()\n",
    "\n",
    "#  5-fold cross-validation en affichant les résultats \n",
    "SVDpp_cv=cross_validate(algo, data, measures=['RMSE', 'MAE'], cv=5, verbose=True)"
   ]
  },
  {
   "cell_type": "markdown",
   "metadata": {
    "id": "W_IfpsemXnNs"
   },
   "source": [
    "### SVD ++ prend beaucoup plus de temps."
   ]
  },
  {
   "cell_type": "code",
   "execution_count": 27,
   "metadata": {
    "id": "YLzN865FXnNs",
    "outputId": "5d130705-7d16-4cb8-fc9d-948818515f52"
   },
   "outputs": [
    {
     "name": "stdout",
     "output_type": "stream",
     "text": [
      "Using ALS\n",
      "Estimating biases using sgd...\n",
      "Estimating biases using sgd...\n",
      "Estimating biases using sgd...\n"
     ]
    }
   ],
   "source": [
    "from surprise import BaselineOnly\n",
    "print('Using ALS')\n",
    "bsl_options = {'method': 'sgd',\n",
    "               'n_epochs': 5,\n",
    "               'reg_u': 12,\n",
    "               'reg_i': 5\n",
    "               }\n",
    "algo = BaselineOnly(bsl_options=bsl_options)\n",
    "BaselineOnly_cv=cross_validate(algo, data, measures=['RMSE'], cv=3, verbose=False)"
   ]
  },
  {
   "cell_type": "markdown",
   "metadata": {
    "id": "qzpcK8ERXnNs"
   },
   "source": [
    "> Question: Changer la paramètre method en remplaçant sgd par als. Est-ce que le rmse s'améliore ?"
   ]
  },
  {
   "cell_type": "markdown",
   "metadata": {
    "id": "UWt-yyPbXnNt"
   },
   "source": [
    "> TAF\n",
    "\n",
    "regarder la documentation officielle: https://surprise.readthedocs.io/en/stable/prediction_algorithms_package.html\n",
    "Implémenter les Algorithmes suivant: \n",
    "\n",
    "1. NormalPredictor\n",
    "\n",
    "\n",
    "3. k-NN algorithms\n",
    "\n",
    "    KNNBasic\n",
    "\n",
    "\n",
    "    KNNWithMeans\n",
    "\n",
    "\n",
    "   KNNWithZScore\n",
    "\n",
    "\n",
    "   KNNBaseline\n",
    "\n",
    "\n",
    "4. Matrix Factorization-based algorithms\n",
    "\n",
    "\n",
    "\n",
    "    NMF\n",
    "\n",
    "\n",
    "5. Slope One\n",
    "\n",
    "\n",
    "6. Co-clustering\n",
    "\n"
   ]
  },
  {
   "cell_type": "markdown",
   "metadata": {},
   "source": [
    "## Application des différentes algorithmes"
   ]
  },
  {
   "cell_type": "markdown",
   "metadata": {
    "id": "6dg2tg-wXnNt"
   },
   "source": [
    "\n",
    "\n",
    "   ### NormalPredictor\n"
   ]
  },
  {
   "cell_type": "code",
   "execution_count": 28,
   "metadata": {
    "id": "uFV-MN83XnNt",
    "outputId": "063b4e84-a068-4971-a7ca-3afa2df35e90"
   },
   "outputs": [
    {
     "name": "stdout",
     "output_type": "stream",
     "text": [
      "Evaluating RMSE, MAE of algorithm NormalPredictor on 5 split(s).\n",
      "\n",
      "                  Fold 1  Fold 2  Fold 3  Fold 4  Fold 5  Mean    Std     \n",
      "RMSE (testset)    1.5236  1.5144  1.5179  1.5274  1.5206  1.5208  0.0045  \n",
      "MAE (testset)     1.2237  1.2144  1.2238  1.2295  1.2218  1.2226  0.0049  \n",
      "Fit time          0.14    0.14    0.14    0.15    0.16    0.15    0.01    \n",
      "Test time         0.13    0.17    0.17    0.10    0.13    0.14    0.03    \n"
     ]
    }
   ],
   "source": [
    "\n",
    "from surprise.prediction_algorithms.random_pred import NormalPredictor\n",
    "\n",
    "\n",
    "\n",
    "# Utilisons NormalPredictor.\n",
    "algo = NormalPredictor()\n",
    "\n",
    "#  5-fold cross-validation en affichant les résultats \n",
    "normalPredictor_CV=cross_validate(algo, data, measures=['RMSE', 'MAE'], cv=5, verbose=True)"
   ]
  },
  {
   "cell_type": "code",
   "execution_count": 29,
   "metadata": {},
   "outputs": [
    {
     "data": {
      "text/plain": [
       "1.2226493370428106"
      ]
     },
     "execution_count": 29,
     "metadata": {},
     "output_type": "execute_result"
    }
   ],
   "source": [
    "import numpy as np\n",
    "np.mean(normalPredictor_CV['test_mae'])"
   ]
  },
  {
   "cell_type": "code",
   "execution_count": 30,
   "metadata": {
    "id": "yna_mYWOXnNu",
    "outputId": "d4304332-455b-479c-ef4c-ec37189db2e7"
   },
   "outputs": [
    {
     "name": "stdout",
     "output_type": "stream",
     "text": [
      "Estimating biases using als...\n",
      "Estimating biases using als...\n",
      "Estimating biases using als...\n",
      "Estimating biases using als...\n",
      "Estimating biases using als...\n",
      "Evaluating RMSE, MAE of algorithm BaselineOnly on 5 split(s).\n",
      "\n",
      "                  Fold 1  Fold 2  Fold 3  Fold 4  Fold 5  Mean    Std     \n",
      "RMSE (testset)    0.9418  0.9484  0.9376  0.9369  0.9403  0.9410  0.0041  \n",
      "MAE (testset)     0.7452  0.7526  0.7401  0.7440  0.7434  0.7451  0.0041  \n",
      "Fit time          0.13    0.15    0.15    0.16    0.16    0.15    0.01    \n",
      "Test time         0.08    0.15    0.10    0.10    0.11    0.11    0.02    \n"
     ]
    },
    {
     "data": {
      "text/plain": [
       "{'test_rmse': array([0.94183646, 0.94835739, 0.93761953, 0.93694232, 0.94032464]),\n",
       " 'test_mae': array([0.74519383, 0.7526101 , 0.74014318, 0.74396807, 0.74343926]),\n",
       " 'fit_time': (0.12647366523742676,\n",
       "  0.15099763870239258,\n",
       "  0.15095186233520508,\n",
       "  0.16000032424926758,\n",
       "  0.16199827194213867),\n",
       " 'test_time': (0.0770416259765625,\n",
       "  0.1509993076324463,\n",
       "  0.09754729270935059,\n",
       "  0.09599637985229492,\n",
       "  0.10699939727783203)}"
      ]
     },
     "execution_count": 30,
     "metadata": {},
     "output_type": "execute_result"
    }
   ],
   "source": [
    "bsl_options = {'method': 'als',\n",
    "               'n_epochs': 5,\n",
    "               'reg_u': 12,\n",
    "               'reg_i': 5\n",
    "               }\n",
    "algo = BaselineOnly(bsl_options=bsl_options)\n",
    "cross_validate(algo, data, measures=['RMSE', 'MAE'], cv=5, verbose=True)"
   ]
  },
  {
   "cell_type": "markdown",
   "metadata": {
    "id": "CWo_0vtoXnNu"
   },
   "source": [
    "### KNNWithMeans()"
   ]
  },
  {
   "cell_type": "code",
   "execution_count": 31,
   "metadata": {
    "id": "CafhKwkSXnNv",
    "outputId": "b041e4ca-5807-44fd-adb5-0ade7e89de7c"
   },
   "outputs": [
    {
     "name": "stdout",
     "output_type": "stream",
     "text": [
      "Computing the msd similarity matrix...\n",
      "Done computing similarity matrix.\n",
      "Computing the msd similarity matrix...\n",
      "Done computing similarity matrix.\n",
      "Computing the msd similarity matrix...\n",
      "Done computing similarity matrix.\n",
      "Computing the msd similarity matrix...\n",
      "Done computing similarity matrix.\n",
      "Computing the msd similarity matrix...\n",
      "Done computing similarity matrix.\n",
      "Evaluating RMSE, MAE of algorithm KNNWithMeans on 5 split(s).\n",
      "\n",
      "                  Fold 1  Fold 2  Fold 3  Fold 4  Fold 5  Mean    Std     \n",
      "RMSE (testset)    0.9450  0.9596  0.9476  0.9489  0.9529  0.9508  0.0051  \n",
      "MAE (testset)     0.7443  0.7556  0.7452  0.7486  0.7522  0.7491  0.0043  \n",
      "Fit time          0.57    0.55    0.55    0.58    0.60    0.57    0.02    \n",
      "Test time         3.72    3.76    4.04    3.84    4.21    3.91    0.18    \n"
     ]
    }
   ],
   "source": [
    "\n",
    "# Utilisons KNNWithMeans.\n",
    "algo = KNNWithMeans()\n",
    "\n",
    "#  5-fold cross-validation en affichant les résultats \n",
    "KNNWithMeans_cv=cross_validate(algo, data, measures=['RMSE', 'MAE'], cv=5, verbose=True)"
   ]
  },
  {
   "cell_type": "markdown",
   "metadata": {
    "id": "d3AhcVObXnNw"
   },
   "source": [
    "### KNNWithZScore\n"
   ]
  },
  {
   "cell_type": "code",
   "execution_count": 32,
   "metadata": {
    "id": "66h7MLPjXnNw",
    "outputId": "20761792-6920-4375-8220-55adb8d43d94"
   },
   "outputs": [
    {
     "name": "stdout",
     "output_type": "stream",
     "text": [
      "Computing the msd similarity matrix...\n",
      "Done computing similarity matrix.\n",
      "Computing the msd similarity matrix...\n",
      "Done computing similarity matrix.\n",
      "Computing the msd similarity matrix...\n",
      "Done computing similarity matrix.\n",
      "Computing the msd similarity matrix...\n",
      "Done computing similarity matrix.\n",
      "Computing the msd similarity matrix...\n",
      "Done computing similarity matrix.\n",
      "Evaluating RMSE, MAE of algorithm KNNWithZScore on 5 split(s).\n",
      "\n",
      "                  Fold 1  Fold 2  Fold 3  Fold 4  Fold 5  Mean    Std     \n",
      "RMSE (testset)    0.9530  0.9375  0.9602  0.9507  0.9493  0.9501  0.0074  \n",
      "MAE (testset)     0.7483  0.7354  0.7537  0.7460  0.7444  0.7456  0.0060  \n",
      "Fit time          0.68    0.65    0.60    0.59    0.62    0.63    0.03    \n",
      "Test time         4.17    4.07    4.05    4.08    3.73    4.02    0.15    \n"
     ]
    }
   ],
   "source": [
    "algo = KNNWithZScore()\n",
    "\n",
    "#  5-fold cross-validation en affichant les résultats \n",
    "KNNWithZScore_cv=cross_validate(algo, data, measures=['RMSE', 'MAE'], cv=5, verbose=True)"
   ]
  },
  {
   "cell_type": "code",
   "execution_count": null,
   "metadata": {
    "id": "R_vvaOTnXnNx"
   },
   "outputs": [],
   "source": []
  },
  {
   "cell_type": "markdown",
   "metadata": {
    "id": "OvotYQ1jXnNx"
   },
   "source": [
    "### KNNBaseline\n"
   ]
  },
  {
   "cell_type": "code",
   "execution_count": 35,
   "metadata": {
    "id": "IBAUSLqPXnNx",
    "outputId": "303d4d24-9123-461d-ddcc-716cb5259fee"
   },
   "outputs": [
    {
     "name": "stdout",
     "output_type": "stream",
     "text": [
      "Estimating biases using als...\n",
      "Computing the msd similarity matrix...\n",
      "Done computing similarity matrix.\n",
      "Estimating biases using als...\n",
      "Computing the msd similarity matrix...\n",
      "Done computing similarity matrix.\n",
      "Estimating biases using als...\n",
      "Computing the msd similarity matrix...\n",
      "Done computing similarity matrix.\n",
      "Estimating biases using als...\n",
      "Computing the msd similarity matrix...\n",
      "Done computing similarity matrix.\n",
      "Estimating biases using als...\n",
      "Computing the msd similarity matrix...\n",
      "Done computing similarity matrix.\n",
      "Evaluating RMSE, MAE of algorithm KNNBaseline on 5 split(s).\n",
      "\n",
      "                  Fold 1  Fold 2  Fold 3  Fold 4  Fold 5  Mean    Std     \n",
      "RMSE (testset)    0.9302  0.9253  0.9326  0.9308  0.9348  0.9307  0.0032  \n",
      "MAE (testset)     0.7333  0.7297  0.7343  0.7318  0.7374  0.7333  0.0026  \n",
      "Fit time          0.96    0.90    0.86    0.93    0.83    0.90    0.05    \n",
      "Test time         4.50    4.43    4.28    4.35    4.53    4.42    0.09    \n"
     ]
    }
   ],
   "source": [
    "algo = KNNBaseline()\n",
    "\n",
    "#  5-fold cross-validation en affichant les résultats \n",
    "KNNBaseline_cv=cross_validate(algo, data, measures=['RMSE', 'MAE'], cv=5, verbose=True)"
   ]
  },
  {
   "cell_type": "markdown",
   "metadata": {
    "id": "7S8vUUFHXnNy"
   },
   "source": [
    "## Matrix Factorization-based algorithms"
   ]
  },
  {
   "cell_type": "markdown",
   "metadata": {
    "id": "aW_NOAziXnNz"
   },
   "source": [
    "### NMF"
   ]
  },
  {
   "cell_type": "code",
   "execution_count": 36,
   "metadata": {
    "id": "2z7SdqSEXnNz",
    "outputId": "0d8d8d4f-a9d5-45f4-a578-089acd51a6e8"
   },
   "outputs": [
    {
     "name": "stdout",
     "output_type": "stream",
     "text": [
      "Evaluating RMSE, MAE of algorithm NMF on 5 split(s).\n",
      "\n",
      "                  Fold 1  Fold 2  Fold 3  Fold 4  Fold 5  Mean    Std     \n",
      "RMSE (testset)    0.9698  0.9603  0.9655  0.9593  0.9630  0.9636  0.0038  \n",
      "MAE (testset)     0.7619  0.7527  0.7594  0.7549  0.7583  0.7575  0.0033  \n",
      "Fit time          5.10    5.25    5.20    5.19    5.49    5.25    0.13    \n",
      "Test time         0.13    0.16    0.12    0.10    0.12    0.13    0.02    \n"
     ]
    }
   ],
   "source": [
    "algo = NMF()\n",
    "\n",
    "#  5-fold cross-validation en affichant les résultats \n",
    "NMF_cv=cross_validate(algo, data, measures=['RMSE', 'MAE'], cv=5, verbose=True)"
   ]
  },
  {
   "cell_type": "markdown",
   "metadata": {
    "id": "EwMUmL68XnNz"
   },
   "source": [
    " ## SlopeOne ,"
   ]
  },
  {
   "cell_type": "code",
   "execution_count": 37,
   "metadata": {
    "id": "TE4zglzWXnNz",
    "outputId": "34828171-e2be-4ee9-a5d8-d1a2efac4b9a"
   },
   "outputs": [
    {
     "name": "stdout",
     "output_type": "stream",
     "text": [
      "Evaluating RMSE, MAE of algorithm SlopeOne on 5 split(s).\n",
      "\n",
      "                  Fold 1  Fold 2  Fold 3  Fold 4  Fold 5  Mean    Std     \n",
      "RMSE (testset)    0.9519  0.9380  0.9327  0.9474  0.9483  0.9437  0.0072  \n",
      "MAE (testset)     0.7504  0.7368  0.7330  0.7453  0.7439  0.7419  0.0062  \n",
      "Fit time          0.74    0.87    0.77    0.77    0.74    0.78    0.05    \n",
      "Test time         3.27    2.87    3.30    3.04    2.96    3.09    0.17    \n"
     ]
    }
   ],
   "source": [
    "algo = SlopeOne()\n",
    "\n",
    "#  5-fold cross-validation en affichant les résultats \n",
    "SlopeOne_cv=cross_validate(algo, data, measures=['RMSE', 'MAE'], cv=5, verbose=True)"
   ]
  },
  {
   "cell_type": "markdown",
   "metadata": {
    "id": "7OGVYPOYXnN1"
   },
   "source": [
    "## CoClustering"
   ]
  },
  {
   "cell_type": "code",
   "execution_count": 38,
   "metadata": {
    "colab": {
     "base_uri": "https://localhost:8080/",
     "height": 225
    },
    "id": "OthVQuyhXnN1",
    "outputId": "14efcbbf-4c5c-4eef-d2b0-3da0cabda468"
   },
   "outputs": [
    {
     "name": "stdout",
     "output_type": "stream",
     "text": [
      "Evaluating RMSE, MAE of algorithm CoClustering on 5 split(s).\n",
      "\n",
      "                  Fold 1  Fold 2  Fold 3  Fold 4  Fold 5  Mean    Std     \n",
      "RMSE (testset)    0.9689  0.9720  0.9660  0.9600  0.9526  0.9639  0.0069  \n",
      "MAE (testset)     0.7587  0.7625  0.7570  0.7516  0.7441  0.7548  0.0064  \n",
      "Fit time          2.85    2.29    2.33    2.38    2.37    2.44    0.20    \n",
      "Test time         0.10    0.15    0.09    0.09    0.09    0.11    0.02    \n"
     ]
    }
   ],
   "source": [
    "algo = CoClustering()\n",
    "\n",
    "#  5-fold cross-validation en affichant les résultats \n",
    "CoClustering_cv=cross_validate(algo, data, measures=['RMSE', 'MAE'], cv=5, verbose=True)"
   ]
  },
  {
   "cell_type": "code",
   "execution_count": 43,
   "metadata": {
    "id": "AzrH-UwMMgAv"
   },
   "outputs": [
    {
     "data": {
      "text/plain": [
       "0.9638992856842717"
      ]
     },
     "execution_count": 43,
     "metadata": {},
     "output_type": "execute_result"
    }
   ],
   "source": [
    "np.mean(CoClustering_cv['test_rmse'])"
   ]
  },
  {
   "cell_type": "markdown",
   "metadata": {
    "id": "EdCtjyDUHpwA"
   },
   "source": [
    "Regroupper les différentes resultats pour mieux interpreter les scores "
   ]
  },
  {
   "cell_type": "code",
   "execution_count": 50,
   "metadata": {
    "id": "3VvV0NwHIJCg"
   },
   "outputs": [
    {
     "data": {
      "text/html": [
       "<div>\n",
       "<style scoped>\n",
       "    .dataframe tbody tr th:only-of-type {\n",
       "        vertical-align: middle;\n",
       "    }\n",
       "\n",
       "    .dataframe tbody tr th {\n",
       "        vertical-align: top;\n",
       "    }\n",
       "\n",
       "    .dataframe thead th {\n",
       "        text-align: right;\n",
       "    }\n",
       "</style>\n",
       "<table border=\"1\" class=\"dataframe\">\n",
       "  <thead>\n",
       "    <tr style=\"text-align: right;\">\n",
       "      <th></th>\n",
       "      <th>RMSE</th>\n",
       "      <th>MAE</th>\n",
       "    </tr>\n",
       "  </thead>\n",
       "  <tbody>\n",
       "    <tr>\n",
       "      <th>normalPredictor</th>\n",
       "      <td>1.520786</td>\n",
       "      <td>1.222649</td>\n",
       "    </tr>\n",
       "    <tr>\n",
       "      <th>SVDpp</th>\n",
       "      <td>0.919415</td>\n",
       "      <td>0.720918</td>\n",
       "    </tr>\n",
       "    <tr>\n",
       "      <th>NMF</th>\n",
       "      <td>0.963566</td>\n",
       "      <td>0.757460</td>\n",
       "    </tr>\n",
       "    <tr>\n",
       "      <th>CoClustering</th>\n",
       "      <td>0.963899</td>\n",
       "      <td>0.754804</td>\n",
       "    </tr>\n",
       "    <tr>\n",
       "      <th>SlopeOne</th>\n",
       "      <td>0.943689</td>\n",
       "      <td>0.741874</td>\n",
       "    </tr>\n",
       "    <tr>\n",
       "      <th>KNNBaseline</th>\n",
       "      <td>0.930739</td>\n",
       "      <td>0.733327</td>\n",
       "    </tr>\n",
       "    <tr>\n",
       "      <th>KNNWithZScore</th>\n",
       "      <td>0.950129</td>\n",
       "      <td>0.745562</td>\n",
       "    </tr>\n",
       "    <tr>\n",
       "      <th>KNNWithMeans</th>\n",
       "      <td>0.950790</td>\n",
       "      <td>0.749149</td>\n",
       "    </tr>\n",
       "    <tr>\n",
       "      <th>SVD</th>\n",
       "      <td>0.935832</td>\n",
       "      <td>0.738119</td>\n",
       "    </tr>\n",
       "    <tr>\n",
       "      <th>KNNBasic_with_best</th>\n",
       "      <td>0.978902</td>\n",
       "      <td>0.773615</td>\n",
       "    </tr>\n",
       "  </tbody>\n",
       "</table>\n",
       "</div>"
      ],
      "text/plain": [
       "                        RMSE       MAE\n",
       "normalPredictor     1.520786  1.222649\n",
       "SVDpp               0.919415  0.720918\n",
       "NMF                 0.963566  0.757460\n",
       "CoClustering        0.963899  0.754804\n",
       "SlopeOne            0.943689  0.741874\n",
       "KNNBaseline         0.930739  0.733327\n",
       "KNNWithZScore       0.950129  0.745562\n",
       "KNNWithMeans        0.950790  0.749149\n",
       "SVD                 0.935832  0.738119\n",
       "KNNBasic_with_best  0.978902  0.773615"
      ]
     },
     "execution_count": 50,
     "metadata": {},
     "output_type": "execute_result"
    }
   ],
   "source": [
    "import pandas as pd\n",
    "surprise_results = {'normalPredictor': [np.mean(normalPredictor_CV['test_rmse']), np.mean(normalPredictor_CV['test_mae'])], 'SVDpp': [np.mean(SVDpp_cv['test_rmse']), np.mean(SVDpp_cv['test_mae'])],\\\n",
    "                    'NMF': [np.mean(NMF_cv['test_rmse']), np.mean(NMF_cv['test_mae'])], 'CoClustering': [np.mean(CoClustering_cv['test_rmse']), np.mean(CoClustering_cv['test_mae'])],\\\n",
    "                    'SlopeOne': [np.mean(SlopeOne_cv['test_rmse']), np.mean(SlopeOne_cv['test_mae'])], 'KNNBaseline': [np.mean(KNNBaseline_cv['test_rmse']), np.mean(KNNBaseline_cv['test_mae'])],\\\n",
    "                    'KNNWithZScore': [np.mean(KNNWithZScore_cv['test_rmse']), np.mean(KNNWithZScore_cv['test_mae'])], 'KNNWithMeans': [np.mean(KNNWithMeans_cv['test_rmse']), np.mean(KNNWithMeans_cv['test_mae'])]\n",
    "                    ,'SVD': [np.mean(SVD_cv['test_rmse']), np.mean(SVD_cv['test_mae'])],'KNNBasic_with_best': [np.mean(KNNBasic_with_best_cv['test_rmse']), np.mean(KNNBasic_with_best_cv['test_mae'])]}\n",
    "surprise_results = pd.DataFrame(surprise_results, index=['RMSE', 'MAE']).T\n",
    "surprise_results"
   ]
  },
  {
   "cell_type": "code",
   "execution_count": 62,
   "metadata": {},
   "outputs": [],
   "source": [
    "surprise_results=surprise_results.sort_values('RMSE')\n",
    "surprise_results_mae=surprise_results.sort_values('MAE')"
   ]
  },
  {
   "cell_type": "code",
   "execution_count": 61,
   "metadata": {
    "scrolled": true
   },
   "outputs": [
    {
     "data": {
      "text/html": [
       "<div>\n",
       "<style scoped>\n",
       "    .dataframe tbody tr th:only-of-type {\n",
       "        vertical-align: middle;\n",
       "    }\n",
       "\n",
       "    .dataframe tbody tr th {\n",
       "        vertical-align: top;\n",
       "    }\n",
       "\n",
       "    .dataframe thead th {\n",
       "        text-align: right;\n",
       "    }\n",
       "</style>\n",
       "<table border=\"1\" class=\"dataframe\">\n",
       "  <thead>\n",
       "    <tr style=\"text-align: right;\">\n",
       "      <th></th>\n",
       "      <th>RMSE</th>\n",
       "      <th>MAE</th>\n",
       "    </tr>\n",
       "  </thead>\n",
       "  <tbody>\n",
       "    <tr>\n",
       "      <th>SVDpp</th>\n",
       "      <td>0.919415</td>\n",
       "      <td>0.720918</td>\n",
       "    </tr>\n",
       "    <tr>\n",
       "      <th>KNNBaseline</th>\n",
       "      <td>0.930739</td>\n",
       "      <td>0.733327</td>\n",
       "    </tr>\n",
       "    <tr>\n",
       "      <th>SVD</th>\n",
       "      <td>0.935832</td>\n",
       "      <td>0.738119</td>\n",
       "    </tr>\n",
       "    <tr>\n",
       "      <th>SlopeOne</th>\n",
       "      <td>0.943689</td>\n",
       "      <td>0.741874</td>\n",
       "    </tr>\n",
       "    <tr>\n",
       "      <th>KNNWithZScore</th>\n",
       "      <td>0.950129</td>\n",
       "      <td>0.745562</td>\n",
       "    </tr>\n",
       "    <tr>\n",
       "      <th>KNNWithMeans</th>\n",
       "      <td>0.950790</td>\n",
       "      <td>0.749149</td>\n",
       "    </tr>\n",
       "    <tr>\n",
       "      <th>NMF</th>\n",
       "      <td>0.963566</td>\n",
       "      <td>0.757460</td>\n",
       "    </tr>\n",
       "    <tr>\n",
       "      <th>CoClustering</th>\n",
       "      <td>0.963899</td>\n",
       "      <td>0.754804</td>\n",
       "    </tr>\n",
       "    <tr>\n",
       "      <th>KNNBasic_with_best</th>\n",
       "      <td>0.978902</td>\n",
       "      <td>0.773615</td>\n",
       "    </tr>\n",
       "    <tr>\n",
       "      <th>normalPredictor</th>\n",
       "      <td>1.520786</td>\n",
       "      <td>1.222649</td>\n",
       "    </tr>\n",
       "  </tbody>\n",
       "</table>\n",
       "</div>"
      ],
      "text/plain": [
       "                        RMSE       MAE\n",
       "SVDpp               0.919415  0.720918\n",
       "KNNBaseline         0.930739  0.733327\n",
       "SVD                 0.935832  0.738119\n",
       "SlopeOne            0.943689  0.741874\n",
       "KNNWithZScore       0.950129  0.745562\n",
       "KNNWithMeans        0.950790  0.749149\n",
       "NMF                 0.963566  0.757460\n",
       "CoClustering        0.963899  0.754804\n",
       "KNNBasic_with_best  0.978902  0.773615\n",
       "normalPredictor     1.520786  1.222649"
      ]
     },
     "execution_count": 61,
     "metadata": {},
     "output_type": "execute_result"
    }
   ],
   "source": [
    "surprise_results_rmse"
   ]
  },
  {
   "cell_type": "code",
   "execution_count": 64,
   "metadata": {
    "id": "QR0C1tHBIJiu",
    "scrolled": false
   },
   "outputs": [
    {
     "data": {
      "image/png": "[encoded data removed]",
      "text/plain": [
       "<Figure size 1080x432 with 1 Axes>"
      ]
     },
     "metadata": {
      "needs_background": "light"
     },
     "output_type": "display_data"
    }
   ],
   "source": [
    "import matplotlib.pyplot as plt\n",
    "\n",
    "fig = plt.figure(figsize=(15, 6))\n",
    "ax = plt.subplot(111)\n",
    "ax.set_axisbelow(True)\n",
    "plt.bar(np.arange(1, 3*surprise_results.shape[0], 3), surprise_results['RMSE']-0.7, width=1, label='RMSE')\n",
    "plt.bar(np.arange(2, 3*surprise_results.shape[0], 3), surprise_results['MAE']-0.7, width=1, label='MAE')\n",
    "plt.xticks(np.arange(1.5, 3*surprise_results.shape[0], 3), surprise_results.index)\n",
    "plt.yticks(np.arange(0, 0.4, 0.1), [0.7, 0.8, 0.9, 1.0])\n",
    "plt.grid()\n",
    "plt.legend()\n",
    "plt.show()"
   ]
  },
  {
   "cell_type": "markdown",
   "metadata": {
    "id": "Q1HhKrdNHkkn"
   },
   "source": [
    "Alors le meilleur algorithme  SVDpp suivi par KNNBaseline"
   ]
  }
 ],
 "metadata": {
  "colab": {
   "collapsed_sections": [],
   "name": "Surprise recommendation .ipynb",
   "provenance": [],
   "toc_visible": true
  },
  "kernelspec": {
   "display_name": "Python 3",
   "language": "python",
   "name": "python3"
  },
  "language_info": {
   "codemirror_mode": {
    "name": "ipython",
    "version": 3
   },
   "file_extension": ".py",
   "mimetype": "text/x-python",
   "name": "python",
   "nbconvert_exporter": "python",
   "pygments_lexer": "ipython3",
   "version": "3.8.5"
  }
 },
 "nbformat": 4,
 "nbformat_minor": 1
}
